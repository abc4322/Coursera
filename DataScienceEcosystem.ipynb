{
 "cells": [
  {
   "cell_type": "markdown",
   "id": "4149ca67-6a8b-4c5d-9175-b63d0a6a0018",
   "metadata": {},
   "source": [
    "# Data Science Tools and Ecosystem"
   ]
  },
  {
   "cell_type": "markdown",
   "id": "4e90479e-806f-47e8-b36d-4c770916872a",
   "metadata": {},
   "source": [
    "**Objectives:**\n",
    "- learn to create tables with markdown cells\n",
    "- list popular languages that Data Scientists use\n",
    "- list commonly used libraries used by Data Scientists\n",
    "- write a simple arithmetic expression in a code cell"
   ]
  },
  {
   "cell_type": "markdown",
   "id": "e483e521-0d9a-44b7-9096-2827b6bc1c92",
   "metadata": {},
   "source": [
    "In this notebook, Data Science Tools and Ecosystem are summarized."
   ]
  },
  {
   "cell_type": "markdown",
   "id": "502620fb-bb3f-481b-aab6-2799e76cf17e",
   "metadata": {},
   "source": [
    "Some of the popular languages that Data Scientists use are:\n",
    "1. Python\n",
    "2. R\n",
    "3. Scala"
   ]
  },
  {
   "cell_type": "markdown",
   "id": "6e93a48b-ac1f-44c8-8b88-25149c1dbb6b",
   "metadata": {},
   "source": [
    "Some of the commonly used libraries used by Data Scientists include:\n",
    "1. pandas\n",
    "2. numpy\n",
    "3. ggplot2"
   ]
  },
  {
   "cell_type": "markdown",
   "id": "f964d539-d963-4765-afd6-c84a574f88e5",
   "metadata": {},
   "source": [
    "Data Science Tools\n",
    "|---------------------|\n",
    "| Jupyter Notebook    |\n",
    "| RStudio             |\n",
    "| Visual Studio Code  |"
   ]
  },
  {
   "cell_type": "markdown",
   "id": "10433b57-0d0f-4505-90c2-28136bc3ac03",
   "metadata": {},
   "source": [
    "### Below are a few examples of evaluating arithmetic expressions in Python"
   ]
  },
  {
   "cell_type": "code",
   "execution_count": 1,
   "id": "0125ef9c-4f14-4062-916c-f7707dd49683",
   "metadata": {},
   "outputs": [
    {
     "data": {
      "text/plain": [
       "17"
      ]
     },
     "execution_count": 1,
     "metadata": {},
     "output_type": "execute_result"
    }
   ],
   "source": [
    "# This a simple arithmetic expression to mutiply then add integers\n",
    "(3*4)+5"
   ]
  },
  {
   "cell_type": "code",
   "execution_count": 2,
   "id": "2a0228cc-b3ba-44e1-b2fe-9b27e61e34b6",
   "metadata": {},
   "outputs": [
    {
     "name": "stdout",
     "output_type": "stream",
     "text": [
      "200 minutes are 3.3333333333333335 hours.\n"
     ]
    }
   ],
   "source": [
    "# This will convert 200 minutes to hours by diving by 60\n",
    "def convert_min_to_h(mins):\n",
    "    h = mins / 60\n",
    "    print(f\"{mins} minutes are {h} hours.\")\n",
    "\n",
    "convert_min_to_h(200)"
   ]
  },
  {
   "cell_type": "markdown",
   "id": "fcb81a83-7e15-4f03-8012-6ce9db2f7b03",
   "metadata": {},
   "source": [
    "## Author\n",
    "Robin"
   ]
  }
 ],
 "metadata": {
  "kernelspec": {
   "display_name": "Python 3 (ipykernel)",
   "language": "python",
   "name": "python3"
  },
  "language_info": {
   "codemirror_mode": {
    "name": "ipython",
    "version": 3
   },
   "file_extension": ".py",
   "mimetype": "text/x-python",
   "name": "python",
   "nbconvert_exporter": "python",
   "pygments_lexer": "ipython3",
   "version": "3.12.3"
  }
 },
 "nbformat": 4,
 "nbformat_minor": 5
}
